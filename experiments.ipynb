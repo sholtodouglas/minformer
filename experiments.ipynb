{
 "cells": [
  {
   "cell_type": "code",
   "execution_count": 37,
   "metadata": {},
   "outputs": [
    {
     "data": {
      "text/plain": [
       "[TpuDevice(id=0, process_index=0, coords=(0,0,0), core_on_chip=0),\n",
       " TpuDevice(id=1, process_index=0, coords=(0,0,0), core_on_chip=1),\n",
       " TpuDevice(id=2, process_index=0, coords=(1,0,0), core_on_chip=0),\n",
       " TpuDevice(id=3, process_index=0, coords=(1,0,0), core_on_chip=1),\n",
       " TpuDevice(id=4, process_index=0, coords=(0,1,0), core_on_chip=0),\n",
       " TpuDevice(id=5, process_index=0, coords=(0,1,0), core_on_chip=1),\n",
       " TpuDevice(id=6, process_index=0, coords=(1,1,0), core_on_chip=0),\n",
       " TpuDevice(id=7, process_index=0, coords=(1,1,0), core_on_chip=1)]"
      ]
     },
     "execution_count": 37,
     "metadata": {},
     "output_type": "execute_result"
    }
   ],
   "source": [
    "import jax\n",
    "import projects.charformer.data as data\n",
    "import projects.charformer.utils as charformer_utils\n",
    "from importlib import reload\n",
    "import sys\n",
    "import numpy\n",
    "import jax.numpy as jnp\n",
    "import minformer.model as model\n",
    "import functools\n",
    "numpy.set_printoptions(threshold=sys.maxsize)\n",
    "data = reload(data)\n",
    "jax.devices()"
   ]
  },
  {
   "cell_type": "code",
   "execution_count": 38,
   "metadata": {},
   "outputs": [
    {
     "name": "stdout",
     "output_type": "stream",
     "text": [
      "\n",
      "Once there was a pale piano. It was very shiny and looked like it had just been polished. Bob was a 3 year old boy who loved the piano. Every day, he would come and polish it. He always used his special color polishing cloth. Making the piano shiny and prettier was so much fun for him. \n",
      "One day, Bob was very excited. He had some new, sparkly polish that he wanted to use. He was so happy that he was dancing around the piano as he polished it. Suddenly, he knocked off one of the keys and it fell to the ground. Bob was so sad. He didn't know what to do. \n",
      "Luckily, his dad was there. He quickly fixed the piano and made it look as good as new. When he was finished, Bob was so proud. The piano was so pale and shiny. He gave his dad a big hug and thanked him for making the piano look so beautiful. From that day on, Bob always remembered to be very careful when polishing the piano.\n",
      "<|endoftext|\n",
      "\n",
      "\n",
      "Bella and Max are two cats who live in a big house with a nice family. They like to play together, chase mice, and nap on the sofa. But sometimes they also like to have their own space and do different things.\n",
      "One day, Bella wanted to explore the garden and see the flowers and the birds. She asked Max to come with her, but Max wanted to stay inside and play with a ball of yarn. He said, \"No, thank you, Bella. I like the yarn. It is soft and fun. You go and have fun in the garden.\"\n",
      "Bella was a little sad, but she understood that Max had a different idea of fun. She said, \"Okay, Max. Maybe we can play together later. Bye-bye.\" She went out the door and into the garden. She smelled the roses, watched the butterflies, and climbed a tree.\n",
      "Max played with the yarn for a while, but then he got bored. He wondered what Bella was doing in the garden. He decided to go and find her. He went out the door and into the garden. He looked around, but he could not see Bella. He called, \"Bella, where are you? I want to play with you.\"\n",
      "Bella heard Max's voice and jumped down from the tree. She ran to him and said, \"Hi, Max. I'm here. I had fun in the garden. Did you have fun with the yarn?\" Max nodded and said, \"Yes, I did. But I missed you. Can we play together now?\" Bella smiled and said, \"Of course we can. What do you want to play?\"\n",
      "Max saw a big cardboard box in the corner of the garden. He said, \"Let's play with the box. Maybe we can make a fort or a spaceship.\" Bella agreed and they ran to the box. They pushed and pulled and scratched and bit until they made a hole in the box. They crawled inside and found that it was cozy and dark. They said, \"Wow, this is a great box. It fits us perfectly.\"\n",
      "They curled up in the box and licked each other's paws. They were happy to be together again. They said, \"We love each other, even when we separate. We are the best cats in the world.\" They closed their eyes and fell asleep in the box. The end.\n",
      "<|endoftext|\n",
      "Once upon a time, there was a big train. The train ran on a track. The track was very organized. It went up and down, left and right.\n",
      "One day, the train saw a cute cat. The cat was lying on the track. The train stopped. The train did not want to hurt the cat.\n",
      "The cat got up and walked away. The train was happy. The train went on the organized track again. The train and the cat were friends. They played together every day.\n",
      "<|endoftext|\n",
      "\n",
      "Ben was so worried. He looked around and saw his toy truck, but it wasn't moving. He asked his dad for help.\n",
      "His dad smiled and said, \"Don't be worried, Ben. We just need some oil to rock the truck.\"\n",
      "So, Ben and his dad went to the store and bought some oil.\n",
      "Back at home, Ben's dad poured the oil into the truck and said, \"Okay, now rock the truck and see if it works!\"\n",
      "Ben rocked the truck back and forth and then it came alive! The truck moved forward and Ben was so excited. He shouted, \"It's working! It's working!\"\n",
      "Ben was so happy his toy truck was finally running. He thanked his dad and they both smiled.\n",
      "<|endoftext|\n"
     ]
    }
   ],
   "source": [
    "ds = data.CharDataset(data.CharDataset.get_default_config())\n",
    "retokenized = ds.load_and_retokenize_tfrecord(file_path='projects/charformer/data/tfrecords/record_400.tfrecord')\n",
    "for r in retokenized:\n",
    "    print(r)"
   ]
  },
  {
   "cell_type": "code",
   "execution_count": 39,
   "metadata": {},
   "outputs": [],
   "source": [
    "iter = ds.create_iterator('projects/charformer/data/tfrecords/record_*.tfrecord', batch_size=8)"
   ]
  },
  {
   "cell_type": "code",
   "execution_count": 40,
   "metadata": {},
   "outputs": [],
   "source": [
    "batch = next(iter)"
   ]
  },
  {
   "cell_type": "code",
   "execution_count": 41,
   "metadata": {},
   "outputs": [],
   "source": [
    "model = reload(model)\n",
    "data = reload(data)"
   ]
  },
  {
   "cell_type": "code",
   "execution_count": 42,
   "metadata": {},
   "outputs": [],
   "source": [
    "cfg = model.Config(\n",
    "    d_model=1024,\n",
    "    ffw_multiplier=4,\n",
    "    query_heads=8,\n",
    "    key_heads=8,\n",
    "    num_layers=4,\n",
    "    key_dim=128,\n",
    "    vocab_size=256,\n",
    "    max_seq_len=8192,\n",
    "    causal=True,\n",
    "    use_attn_kernel=True,\n",
    "    weight_dtype_at_rest=jnp.float32,\n",
    "    active_weight_dtype=jnp.bfloat16,\n",
    "    rules=model.fsdp_rules,\n",
    "    mesh=model.create_mesh(),\n",
    "    max_lr=3e-4,\n",
    "    min_lr=1e-5,\n",
    "    warmup_steps=50,\n",
    "    total_steps=10000,\n",
    ")\n",
    "\n",
    "inference_config = model.Config(\n",
    "    d_model=1024,\n",
    "    ffw_multiplier=4,\n",
    "    query_heads=8,\n",
    "    key_heads=8,\n",
    "    num_layers=4,\n",
    "    key_dim=128,\n",
    "    vocab_size=256,\n",
    "    max_seq_len=8192,\n",
    "    causal=True,\n",
    "    use_attn_kernel=False,\n",
    "    weight_dtype_at_rest=jnp.float32,\n",
    "    active_weight_dtype=jnp.bfloat16,\n",
    "    rules=model.mdl_parallel_rules,\n",
    "    mesh=model.create_mesh()\n",
    ")"
   ]
  },
  {
   "cell_type": "code",
   "execution_count": 43,
   "metadata": {},
   "outputs": [],
   "source": [
    "weights = model.Weights.init(cfg, jax.random.PRNGKey(0), cfg.mesh, model.fsdp_rules)\n",
    "opt_state = model.init_adam_state(weights)"
   ]
  },
  {
   "cell_type": "code",
   "execution_count": 44,
   "metadata": {},
   "outputs": [],
   "source": [
    "step = jax.jit(model.update_step, static_argnames='cfg')\n",
    "batch = jax.device_put(batch, model.input_shardings(cfg.mesh, cfg.rules))\n",
    "step = step.lower(weights, batch['x'], batch['segment_ids'], batch['y'], opt_state, 0, cfg=cfg).compile()"
   ]
  },
  {
   "cell_type": "code",
   "execution_count": 46,
   "metadata": {},
   "outputs": [
    {
     "name": "stdout",
     "output_type": "stream",
     "text": [
      "8.139626\n",
      "8.246843\n",
      "7.9841886\n",
      "7.2935576\n",
      "6.736071\n",
      "6.3261642\n",
      "6.0938354\n",
      "5.884016\n",
      "5.851568\n",
      "5.895077\n",
      "5.571536\n",
      "5.517823\n",
      "5.4919734\n",
      "5.3684525\n",
      "5.0990005\n",
      "4.888402\n",
      "4.867618\n",
      "4.9953\n",
      "4.9291997\n",
      "4.4774566\n",
      "4.2531276\n",
      "4.134134\n",
      "4.096223\n",
      "3.7144952\n",
      "3.4072273\n",
      "3.6796517\n",
      "3.7405887\n",
      "3.421703\n",
      "3.355438\n",
      "3.3535416\n",
      "3.273258\n",
      "3.3700163\n",
      "3.2629297\n",
      "3.1671538\n",
      "2.8268027\n",
      "2.8354433\n",
      "3.0514855\n",
      "2.8069258\n",
      "2.7783837\n",
      "2.8413453\n",
      "2.8132443\n",
      "2.632401\n",
      "2.6823719\n",
      "2.7124612\n",
      "2.4235547\n",
      "2.6877031\n",
      "2.5498192\n",
      "2.4310563\n",
      "2.4545984\n",
      "2.4968383\n",
      "2.3743856\n",
      "2.4035811\n",
      "2.3814554\n",
      "2.4128625\n",
      "2.2773917\n",
      "2.3471787\n",
      "2.3638756\n",
      "2.250904\n",
      "2.2717066\n",
      "2.2307026\n",
      "2.1927407\n",
      "2.2198935\n",
      "2.2171454\n",
      "2.1698668\n",
      "2.1537104\n",
      "2.1904805\n",
      "2.070275\n",
      "2.196079\n",
      "2.1753736\n",
      "2.0924113\n",
      "2.1027632\n",
      "2.100961\n",
      "2.0953329\n",
      "2.13924\n",
      "2.0825164\n",
      "2.1085944\n",
      "2.1410346\n",
      "2.079566\n",
      "2.047626\n",
      "2.0164165\n",
      "2.09391\n",
      "2.0757937\n",
      "2.0612004\n",
      "2.0604613\n",
      "2.0654366\n",
      "2.032355\n",
      "1.9846704\n",
      "2.0349782\n",
      "2.005476\n",
      "1.9331951\n",
      "2.0003462\n",
      "2.0127013\n",
      "1.9912531\n",
      "2.051277\n",
      "2.003462\n",
      "1.9963125\n",
      "2.0513713\n",
      "1.9657676\n",
      "1.9725215\n",
      "1.9486723\n"
     ]
    }
   ],
   "source": [
    "# Does loss go down!\n",
    "for i in range(0, 100):\n",
    "    batch = next(iter)\n",
    "    batch = jax.device_put(batch, model.input_shardings(cfg.mesh, cfg.rules))\n",
    "    loss, weights, opt_state, internals = step(weights, batch['x'], batch['segment_ids'], batch['y'], opt_state, i)\n",
    "    print(loss)"
   ]
  },
  {
   "cell_type": "code",
   "execution_count": null,
   "metadata": {},
   "outputs": [],
   "source": [
    "ckpt_manager = model.make_mgnr(path='/tmp/charformer_checkpoints/test_run')\n",
    "weights, opt_state = model.load(ckpt_manager, cfg)\n",
    "start_step = ckpt_manager.latest_step()\n",
    "cache = model.KVCache.init(cfg=inference_config, batch_size=1, max_seq_len=2048)\n",
    "prompt = ds.tokenize('Once upon a time there was a boy called Sholto with a brother called')\n",
    "prompt = ds.tokenize('Bella and Max are two dogs')\n",
    "tokens, cache = model.sample_from_prompt(prompt,\n",
    "                                        weights,\n",
    "                                        cache,\n",
    "                                        inference_config,\n",
    "                                        batch_idx=0, \n",
    "                                        num_steps=500,\n",
    "                                        greedy=True)\n",
    "print(ds.detokenize(jnp.array(tokens)))\n"
   ]
  },
  {
   "cell_type": "code",
   "execution_count": 93,
   "metadata": {},
   "outputs": [],
   "source": [
    "from tensorboardX import SummaryWriter\n",
    "from typing import Any\n",
    "charformer_utils = reload(charformer_utils)"
   ]
  },
  {
   "cell_type": "code",
   "execution_count": 94,
   "metadata": {},
   "outputs": [],
   "source": [
    "def eval_batch(batch: Any, dataset: data.CharDataset, weights: model.Weights, writer: SummaryWriter, step: int, cfg: model.Config, batch_row: int = 0):\n",
    "    _, internals = model.compute_loss(weights, batch['x'], batch['segment_ids'], batch['y'], cfg)\n",
    "    losses = internals['per_token_loss']\n",
    "    length = jnp.sum(batch['segment_ids'][batch_row] != 0) - 1\n",
    "    text = dataset.detokenize(batch['y'][batch_row, :length])\n",
    "    losses = losses[batch_row, :length]\n",
    "    charformer_utils.visualize_token_prediction_difficulty(text, losses, save_image=True, writer=writer, step=step)"
   ]
  },
  {
   "cell_type": "code",
   "execution_count": 96,
   "metadata": {},
   "outputs": [],
   "source": [
    "with SummaryWriter('/tmp/test') as writer:\n",
    "    eval_batch(batch, ds, weights, writer, 0, cfg)"
   ]
  },
  {
   "cell_type": "code",
   "execution_count": 88,
   "metadata": {},
   "outputs": [],
   "source": []
  },
  {
   "cell_type": "code",
   "execution_count": 16,
   "metadata": {},
   "outputs": [
    {
     "name": "stdout",
     "output_type": "stream",
     "text": [
      "Step 0, Loss: 17.066545486450195\n",
      "Step 10, Loss: 11.532427787780762\n",
      "Step 20, Loss: 7.027729511260986\n",
      "Step 30, Loss: 8.940155982971191\n",
      "Step 40, Loss: 14.88782024383545\n",
      "Step 50, Loss: 15.660852432250977\n",
      "Step 60, Loss: 12.053272247314453\n",
      "Step 70, Loss: 7.063455104827881\n",
      "Step 80, Loss: 4.921855926513672\n",
      "Step 90, Loss: 3.786520481109619\n",
      "Step 100, Loss: 2.870526075363159\n",
      "Step 110, Loss: 2.289405345916748\n",
      "Step 120, Loss: 2.2745025157928467\n",
      "Step 130, Loss: 2.1538033485412598\n",
      "Step 140, Loss: 2.011927843093872\n"
     ]
    },
    {
     "ename": "KeyboardInterrupt",
     "evalue": "",
     "output_type": "error",
     "traceback": [
      "\u001b[0;31m---------------------------------------------------------------------------\u001b[0m",
      "\u001b[0;31mKeyboardInterrupt\u001b[0m                         Traceback (most recent call last)",
      "Cell \u001b[0;32mIn[16], line 24\u001b[0m\n\u001b[1;32m     20\u001b[0m loss, weights, opt_state, internals \u001b[38;5;241m=\u001b[39m step(weights, batch[\u001b[38;5;124m'\u001b[39m\u001b[38;5;124mx\u001b[39m\u001b[38;5;124m'\u001b[39m], batch[\u001b[38;5;124m'\u001b[39m\u001b[38;5;124msegment_ids\u001b[39m\u001b[38;5;124m'\u001b[39m], batch[\u001b[38;5;124m'\u001b[39m\u001b[38;5;124my\u001b[39m\u001b[38;5;124m'\u001b[39m], opt_state, i)\n\u001b[1;32m     22\u001b[0m \u001b[38;5;28;01mif\u001b[39;00m i \u001b[38;5;241m%\u001b[39m \u001b[38;5;241m10\u001b[39m \u001b[38;5;241m==\u001b[39m \u001b[38;5;241m0\u001b[39m:\n\u001b[1;32m     23\u001b[0m     \u001b[38;5;66;03m# Log loss to TensorBoard\u001b[39;00m\n\u001b[0;32m---> 24\u001b[0m     \u001b[43mwriter\u001b[49m\u001b[38;5;241;43m.\u001b[39;49m\u001b[43madd_scalar\u001b[49m\u001b[43m(\u001b[49m\u001b[38;5;124;43m'\u001b[39;49m\u001b[38;5;124;43mloss\u001b[39;49m\u001b[38;5;124;43m'\u001b[39;49m\u001b[43m,\u001b[49m\u001b[43m \u001b[49m\u001b[43mloss\u001b[49m\u001b[43m,\u001b[49m\u001b[43m \u001b[49m\u001b[43mi\u001b[49m\u001b[43m)\u001b[49m\n\u001b[1;32m     25\u001b[0m     \u001b[38;5;28mprint\u001b[39m(\u001b[38;5;124mf\u001b[39m\u001b[38;5;124m\"\u001b[39m\u001b[38;5;124mStep \u001b[39m\u001b[38;5;132;01m{\u001b[39;00mi\u001b[38;5;132;01m}\u001b[39;00m\u001b[38;5;124m, Loss: \u001b[39m\u001b[38;5;132;01m{\u001b[39;00mloss\u001b[38;5;132;01m}\u001b[39;00m\u001b[38;5;124m\"\u001b[39m)\n\u001b[1;32m     26\u001b[0m     log_metrics(writer, internals, i)\n",
      "File \u001b[0;32m~/.local/lib/python3.10/site-packages/tensorboardX/writer.py:456\u001b[0m, in \u001b[0;36mSummaryWriter.add_scalar\u001b[0;34m(self, tag, scalar_value, global_step, walltime, display_name, summary_description)\u001b[0m\n\u001b[1;32m    453\u001b[0m     \u001b[38;5;28;01melse\u001b[39;00m:\n\u001b[1;32m    454\u001b[0m         \u001b[38;5;28;01mraise\u001b[39;00m \u001b[38;5;167;01mTypeError\u001b[39;00m(\u001b[38;5;124m\"\u001b[39m\u001b[38;5;124mInput value: \u001b[39m\u001b[38;5;130;01m\\\"\u001b[39;00m\u001b[38;5;132;01m{}\u001b[39;00m\u001b[38;5;130;01m\\\"\u001b[39;00m\u001b[38;5;124m is not a scalar\u001b[39m\u001b[38;5;124m\"\u001b[39m\u001b[38;5;241m.\u001b[39mformat(scalar_value))\n\u001b[1;32m    455\u001b[0m \u001b[38;5;28mself\u001b[39m\u001b[38;5;241m.\u001b[39m_get_file_writer()\u001b[38;5;241m.\u001b[39madd_summary(\n\u001b[0;32m--> 456\u001b[0m     \u001b[43mscalar\u001b[49m\u001b[43m(\u001b[49m\u001b[43mtag\u001b[49m\u001b[43m,\u001b[49m\u001b[43m \u001b[49m\u001b[43mscalar_value\u001b[49m\u001b[43m,\u001b[49m\u001b[43m \u001b[49m\u001b[43mdisplay_name\u001b[49m\u001b[43m,\u001b[49m\u001b[43m \u001b[49m\u001b[43msummary_description\u001b[49m\u001b[43m)\u001b[49m, global_step, walltime)\n\u001b[1;32m    457\u001b[0m \u001b[38;5;28mself\u001b[39m\u001b[38;5;241m.\u001b[39m_get_comet_logger()\u001b[38;5;241m.\u001b[39mlog_metric(tag, display_name, scalar_value, global_step)\n",
      "File \u001b[0;32m~/.local/lib/python3.10/site-packages/tensorboardX/summary.py:152\u001b[0m, in \u001b[0;36mscalar\u001b[0;34m(name, scalar, display_name, summary_description)\u001b[0m\n\u001b[1;32m    138\u001b[0m \u001b[38;5;250m\u001b[39m\u001b[38;5;124;03m\"\"\"Outputs a `Summary` protocol buffer containing a single scalar value.\u001b[39;00m\n\u001b[1;32m    139\u001b[0m \u001b[38;5;124;03mThe generated Summary has a Tensor.proto containing the input Tensor.\u001b[39;00m\n\u001b[1;32m    140\u001b[0m \u001b[38;5;124;03mArgs:\u001b[39;00m\n\u001b[0;32m   (...)\u001b[0m\n\u001b[1;32m    149\u001b[0m \u001b[38;5;124;03m  ValueError: If tensor has the wrong shape or type.\u001b[39;00m\n\u001b[1;32m    150\u001b[0m \u001b[38;5;124;03m\"\"\"\u001b[39;00m\n\u001b[1;32m    151\u001b[0m name \u001b[38;5;241m=\u001b[39m _clean_tag(name)\n\u001b[0;32m--> 152\u001b[0m scalar \u001b[38;5;241m=\u001b[39m \u001b[43mmake_np\u001b[49m\u001b[43m(\u001b[49m\u001b[43mscalar\u001b[49m\u001b[43m)\u001b[49m\n\u001b[1;32m    153\u001b[0m \u001b[38;5;28;01massert\u001b[39;00m scalar\u001b[38;5;241m.\u001b[39msqueeze()\u001b[38;5;241m.\u001b[39mndim \u001b[38;5;241m==\u001b[39m \u001b[38;5;241m0\u001b[39m, \u001b[38;5;124m'\u001b[39m\u001b[38;5;124mscalar should be 0D\u001b[39m\u001b[38;5;124m'\u001b[39m\n\u001b[1;32m    154\u001b[0m scalar \u001b[38;5;241m=\u001b[39m \u001b[38;5;28mfloat\u001b[39m(scalar\u001b[38;5;241m.\u001b[39msqueeze())\n",
      "File \u001b[0;32m~/.local/lib/python3.10/site-packages/tensorboardX/x2num.py:34\u001b[0m, in \u001b[0;36mmake_np\u001b[0;34m(x)\u001b[0m\n\u001b[1;32m     32\u001b[0m     \u001b[38;5;28;01mreturn\u001b[39;00m check_nan(prepare_mxnet(x))\n\u001b[1;32m     33\u001b[0m \u001b[38;5;28;01mif\u001b[39;00m \u001b[38;5;124m'\u001b[39m\u001b[38;5;124mjax\u001b[39m\u001b[38;5;124m'\u001b[39m \u001b[38;5;129;01min\u001b[39;00m \u001b[38;5;28mstr\u001b[39m(\u001b[38;5;28mtype\u001b[39m(x)):\n\u001b[0;32m---> 34\u001b[0m     \u001b[38;5;28;01mreturn\u001b[39;00m check_nan(\u001b[43mnp\u001b[49m\u001b[38;5;241;43m.\u001b[39;49m\u001b[43marray\u001b[49m\u001b[43m(\u001b[49m\u001b[43mx\u001b[49m\u001b[43m)\u001b[49m)\n\u001b[1;32m     35\u001b[0m \u001b[38;5;28;01mraise\u001b[39;00m \u001b[38;5;167;01mNotImplementedError\u001b[39;00m(\n\u001b[1;32m     36\u001b[0m     \u001b[38;5;124m'\u001b[39m\u001b[38;5;124mGot \u001b[39m\u001b[38;5;132;01m{}\u001b[39;00m\u001b[38;5;124m, but expected numpy array or torch tensor.\u001b[39m\u001b[38;5;124m'\u001b[39m\u001b[38;5;241m.\u001b[39mformat(\u001b[38;5;28mtype\u001b[39m(x)))\n",
      "File \u001b[0;32m~/.local/lib/python3.10/site-packages/jax/_src/array.py:414\u001b[0m, in \u001b[0;36mArrayImpl.__array__\u001b[0;34m(self, dtype, context, copy)\u001b[0m\n\u001b[1;32m    411\u001b[0m \u001b[38;5;28;01mdef\u001b[39;00m \u001b[38;5;21m__array__\u001b[39m(\u001b[38;5;28mself\u001b[39m, dtype\u001b[38;5;241m=\u001b[39m\u001b[38;5;28;01mNone\u001b[39;00m, context\u001b[38;5;241m=\u001b[39m\u001b[38;5;28;01mNone\u001b[39;00m, copy\u001b[38;5;241m=\u001b[39m\u001b[38;5;28;01mNone\u001b[39;00m):\n\u001b[1;32m    412\u001b[0m   \u001b[38;5;66;03m# copy argument is supported by np.asarray starting in numpy 2.0\u001b[39;00m\n\u001b[1;32m    413\u001b[0m   kwds \u001b[38;5;241m=\u001b[39m {} \u001b[38;5;28;01mif\u001b[39;00m copy \u001b[38;5;129;01mis\u001b[39;00m \u001b[38;5;28;01mNone\u001b[39;00m \u001b[38;5;28;01melse\u001b[39;00m {\u001b[38;5;124m'\u001b[39m\u001b[38;5;124mcopy\u001b[39m\u001b[38;5;124m'\u001b[39m: copy}\n\u001b[0;32m--> 414\u001b[0m   \u001b[38;5;28;01mreturn\u001b[39;00m np\u001b[38;5;241m.\u001b[39masarray(\u001b[38;5;28;43mself\u001b[39;49m\u001b[38;5;241;43m.\u001b[39;49m\u001b[43m_value\u001b[49m, dtype\u001b[38;5;241m=\u001b[39mdtype, \u001b[38;5;241m*\u001b[39m\u001b[38;5;241m*\u001b[39mkwds)\n",
      "File \u001b[0;32m~/.local/lib/python3.10/site-packages/jax/_src/profiler.py:336\u001b[0m, in \u001b[0;36mannotate_function.<locals>.wrapper\u001b[0;34m(*args, **kwargs)\u001b[0m\n\u001b[1;32m    333\u001b[0m \u001b[38;5;129m@wraps\u001b[39m(func)\n\u001b[1;32m    334\u001b[0m \u001b[38;5;28;01mdef\u001b[39;00m \u001b[38;5;21mwrapper\u001b[39m(\u001b[38;5;241m*\u001b[39margs, \u001b[38;5;241m*\u001b[39m\u001b[38;5;241m*\u001b[39mkwargs):\n\u001b[1;32m    335\u001b[0m   \u001b[38;5;28;01mwith\u001b[39;00m TraceAnnotation(name, \u001b[38;5;241m*\u001b[39m\u001b[38;5;241m*\u001b[39mdecorator_kwargs):\n\u001b[0;32m--> 336\u001b[0m     \u001b[38;5;28;01mreturn\u001b[39;00m \u001b[43mfunc\u001b[49m\u001b[43m(\u001b[49m\u001b[38;5;241;43m*\u001b[39;49m\u001b[43margs\u001b[49m\u001b[43m,\u001b[49m\u001b[43m \u001b[49m\u001b[38;5;241;43m*\u001b[39;49m\u001b[38;5;241;43m*\u001b[39;49m\u001b[43mkwargs\u001b[49m\u001b[43m)\u001b[49m\n\u001b[1;32m    337\u001b[0m   \u001b[38;5;28;01mreturn\u001b[39;00m wrapper\n",
      "File \u001b[0;32m~/.local/lib/python3.10/site-packages/jax/_src/array.py:613\u001b[0m, in \u001b[0;36mArrayImpl._value\u001b[0;34m(self)\u001b[0m\n\u001b[1;32m    611\u001b[0m \u001b[38;5;28;01mif\u001b[39;00m \u001b[38;5;28mself\u001b[39m\u001b[38;5;241m.\u001b[39m_npy_value \u001b[38;5;129;01mis\u001b[39;00m \u001b[38;5;28;01mNone\u001b[39;00m:\n\u001b[1;32m    612\u001b[0m   \u001b[38;5;28;01mif\u001b[39;00m \u001b[38;5;28mself\u001b[39m\u001b[38;5;241m.\u001b[39mis_fully_replicated:\n\u001b[0;32m--> 613\u001b[0m     \u001b[38;5;28mself\u001b[39m\u001b[38;5;241m.\u001b[39m_npy_value \u001b[38;5;241m=\u001b[39m \u001b[38;5;28;43mself\u001b[39;49m\u001b[38;5;241;43m.\u001b[39;49m\u001b[43m_single_device_array_to_np_array\u001b[49m\u001b[43m(\u001b[49m\u001b[43m)\u001b[49m\n\u001b[1;32m    614\u001b[0m     \u001b[38;5;28mself\u001b[39m\u001b[38;5;241m.\u001b[39m_npy_value\u001b[38;5;241m.\u001b[39mflags\u001b[38;5;241m.\u001b[39mwriteable \u001b[38;5;241m=\u001b[39m \u001b[38;5;28;01mFalse\u001b[39;00m\n\u001b[1;32m    615\u001b[0m     \u001b[38;5;28;01mreturn\u001b[39;00m cast(np\u001b[38;5;241m.\u001b[39mndarray, \u001b[38;5;28mself\u001b[39m\u001b[38;5;241m.\u001b[39m_npy_value)\n",
      "\u001b[0;31mKeyboardInterrupt\u001b[0m: "
     ]
    }
   ],
   "source": [
    "# Training loop\n",
    "\n",
    "    # Log hyperparameters\n",
    "    writer.add_hparams({\n",
    "        'd_model': cfg.d_model,\n",
    "        'num_layers': cfg.num_layers,\n",
    "        'query_heads': cfg.query_heads,\n",
    "        'key_heads': cfg.key_heads,\n",
    "        'max_lr': cfg.max_lr,\n",
    "        'min_lr': cfg.min_lr,\n",
    "        'warmup_steps': cfg.warmup_steps,\n",
    "        'total_steps': cfg.total_steps,\n",
    "        'batch_size': 8,\n",
    "        'max_seq_len': cfg.max_seq_len,\n",
    "    }, {})\n",
    "\n",
    "    for i in range(cfg.total_steps):\n",
    "        batch = next(iter)\n",
    "        batch = jax.device_put(batch, model.input_shardings(cfg.mesh, cfg.rules))\n",
    "        loss, weights, opt_state, internals = step(weights, batch['x'], batch['segment_ids'], batch['y'], opt_state, i)\n",
    "        \n",
    "        if i % 10 == 0:\n",
    "            # Log loss to TensorBoard\n",
    "            writer.add_scalar('loss', loss, i)\n",
    "            print(f\"Step {i}, Loss: {loss}\")\n",
    "            log_metrics(writer, internals, i)\n",
    "\n",
    "            log_weight_histograms(writer, weights, i)"
   ]
  },
  {
   "cell_type": "code",
   "execution_count": 17,
   "metadata": {},
   "outputs": [
    {
     "data": {
      "text/plain": [
       "['accuracy',\n",
       " Array(0.17664422, dtype=float32),\n",
       " 'grad_norms/layers[0]/q',\n",
       " Array(8.893737, dtype=float32),\n",
       " 'grad_norms/layers[0]/k',\n",
       " Array(9.402697, dtype=float32),\n",
       " 'grad_norms/layers[0]/v',\n",
       " Array(26.138466, dtype=float32),\n",
       " 'grad_norms/layers[0]/proj',\n",
       " Array(27.240057, dtype=float32),\n",
       " 'grad_norms/layers[0]/w1',\n",
       " Array(24.891123, dtype=float32),\n",
       " 'grad_norms/layers[0]/w2',\n",
       " Array(33.3768, dtype=float32),\n",
       " 'grad_norms/layers[0]/gamma1',\n",
       " Array(1.2597772, dtype=float32),\n",
       " 'grad_norms/layers[0]/gamma2',\n",
       " Array(1.0412744, dtype=float32),\n",
       " 'grad_norms/layers[1]/q',\n",
       " Array(3.0727901, dtype=float32),\n",
       " 'grad_norms/layers[1]/k',\n",
       " Array(3.2610452, dtype=float32),\n",
       " 'grad_norms/layers[1]/v',\n",
       " Array(21.511538, dtype=float32),\n",
       " 'grad_norms/layers[1]/proj',\n",
       " Array(22.735065, dtype=float32),\n",
       " 'grad_norms/layers[1]/w1',\n",
       " Array(28.196568, dtype=float32),\n",
       " 'grad_norms/layers[1]/w2',\n",
       " Array(33.000977, dtype=float32),\n",
       " 'grad_norms/layers[1]/gamma1',\n",
       " Array(0.89883435, dtype=float32),\n",
       " 'grad_norms/layers[1]/gamma2',\n",
       " Array(1.215913, dtype=float32),\n",
       " 'grad_norms/layers[2]/q',\n",
       " Array(1.8813899, dtype=float32),\n",
       " 'grad_norms/layers[2]/k',\n",
       " Array(1.9029047, dtype=float32),\n",
       " 'grad_norms/layers[2]/v',\n",
       " Array(21.217283, dtype=float32),\n",
       " 'grad_norms/layers[2]/proj',\n",
       " Array(24.650585, dtype=float32),\n",
       " 'grad_norms/layers[2]/w1',\n",
       " Array(30.074932, dtype=float32),\n",
       " 'grad_norms/layers[2]/w2',\n",
       " Array(32.141827, dtype=float32),\n",
       " 'grad_norms/layers[2]/gamma1',\n",
       " Array(0.92899543, dtype=float32),\n",
       " 'grad_norms/layers[2]/gamma2',\n",
       " Array(1.2260927, dtype=float32),\n",
       " 'grad_norms/layers[3]/q',\n",
       " Array(1.2683609, dtype=float32),\n",
       " 'grad_norms/layers[3]/k',\n",
       " Array(1.2498697, dtype=float32),\n",
       " 'grad_norms/layers[3]/v',\n",
       " Array(21.934275, dtype=float32),\n",
       " 'grad_norms/layers[3]/proj',\n",
       " Array(23.624659, dtype=float32),\n",
       " 'grad_norms/layers[3]/w1',\n",
       " Array(31.269701, dtype=float32),\n",
       " 'grad_norms/layers[3]/w2',\n",
       " Array(32.34156, dtype=float32),\n",
       " 'grad_norms/layers[3]/gamma1',\n",
       " Array(0.9351859, dtype=float32),\n",
       " 'grad_norms/layers[3]/gamma2',\n",
       " Array(1.4602, dtype=float32),\n",
       " 'grad_norms/embedding',\n",
       " Array(14.356078, dtype=float32),\n",
       " 'grad_norms/vocab_proj',\n",
       " Array(101.59273, dtype=float32),\n",
       " 'lr',\n",
       " Array(0., dtype=float32, weak_type=True)]"
      ]
     },
     "execution_count": 17,
     "metadata": {},
     "output_type": "execute_result"
    }
   ],
   "source": []
  },
  {
   "cell_type": "code",
   "execution_count": 24,
   "metadata": {},
   "outputs": [],
   "source": []
  },
  {
   "cell_type": "code",
   "execution_count": 65,
   "metadata": {},
   "outputs": [
    {
     "data": {
      "text/plain": [
       "Array(25.252455, dtype=float32)"
      ]
     },
     "execution_count": 65,
     "metadata": {},
     "output_type": "execute_result"
    }
   ],
   "source": [
    "batch = jax.device_put(batch, model.input_shardings(cfg.mesh, cfg.rules))\n",
    "loss, weights, opt_state, internals = step(weights, batch['x'], batch['segment_ids'], batch['y'], opt_state, 0)\n",
    "jax.block_until_ready(loss)"
   ]
  },
  {
   "cell_type": "code",
   "execution_count": 70,
   "metadata": {},
   "outputs": [],
   "source": [
    "from jax.profiler import trace\n",
    "with trace(\"/tmp/profile\"):\n",
    "    batch = jax.device_put(batch, model.input_shardings(cfg.mesh, cfg.rules))\n",
    "    loss, weights, opt_state, internals = step(weights, batch['x'], batch['segment_ids'], batch['y'], opt_state, 2)\n",
    "    jax.block_until_ready(loss)"
   ]
  },
  {
   "cell_type": "code",
   "execution_count": 3,
   "metadata": {},
   "outputs": [
    {
     "ename": "TypeError",
     "evalue": "'builtin_function_or_method' object is not an iterator",
     "output_type": "error",
     "traceback": [
      "\u001b[0;31m---------------------------------------------------------------------------\u001b[0m",
      "\u001b[0;31mTypeError\u001b[0m                                 Traceback (most recent call last)",
      "Cell \u001b[0;32mIn[3], line 3\u001b[0m\n\u001b[1;32m      1\u001b[0m \u001b[38;5;66;03m# Does loss go down!\u001b[39;00m\n\u001b[1;32m      2\u001b[0m \u001b[38;5;28;01mfor\u001b[39;00m i \u001b[38;5;129;01min\u001b[39;00m \u001b[38;5;28mrange\u001b[39m(\u001b[38;5;241m0\u001b[39m, \u001b[38;5;241m5000\u001b[39m):\n\u001b[0;32m----> 3\u001b[0m     batch \u001b[38;5;241m=\u001b[39m \u001b[38;5;28;43mnext\u001b[39;49m\u001b[43m(\u001b[49m\u001b[38;5;28;43miter\u001b[39;49m\u001b[43m)\u001b[49m\n\u001b[1;32m      4\u001b[0m     batch \u001b[38;5;241m=\u001b[39m jax\u001b[38;5;241m.\u001b[39mdevice_put(batch, model\u001b[38;5;241m.\u001b[39minput_shardings(cfg\u001b[38;5;241m.\u001b[39mmesh, cfg\u001b[38;5;241m.\u001b[39mrules))\n\u001b[1;32m      5\u001b[0m     loss, weights, opt_state, internals \u001b[38;5;241m=\u001b[39m step(weights, batch[\u001b[38;5;124m'\u001b[39m\u001b[38;5;124mx\u001b[39m\u001b[38;5;124m'\u001b[39m], batch[\u001b[38;5;124m'\u001b[39m\u001b[38;5;124msegment_ids\u001b[39m\u001b[38;5;124m'\u001b[39m], batch[\u001b[38;5;124m'\u001b[39m\u001b[38;5;124my\u001b[39m\u001b[38;5;124m'\u001b[39m], opt_state, i)\n",
      "\u001b[0;31mTypeError\u001b[0m: 'builtin_function_or_method' object is not an iterator"
     ]
    }
   ],
   "source": [
    "# Does loss go down!\n",
    "for i in range(0, 5000):\n",
    "    batch = next(iter)\n",
    "    batch = jax.device_put(batch, model.input_shardings(cfg.mesh, cfg.rules))\n",
    "    loss, weights, opt_state, internals = step(weights, batch['x'], batch['segment_ids'], batch['y'], opt_state, i)\n",
    "    print(loss)"
   ]
  },
  {
   "cell_type": "code",
   "execution_count": 14,
   "metadata": {},
   "outputs": [],
   "source": [
    "cfg = model.Config(\n",
    "    d_model=256,\n",
    "    ffw_multiplier=4,\n",
    "    query_heads=8,\n",
    "    key_heads=8,\n",
    "    num_layers=4,\n",
    "    key_dim=128,\n",
    "    vocab_size=256,\n",
    "    max_seq_len=8192,\n",
    "    causal=True,\n",
    "    use_attn_kernel=True,\n",
    "    weight_dtype=jnp.float32,\n",
    "    rules=model.fsdp_rules,\n",
    "    mesh=model.create_mesh(),\n",
    "    max_lr=3e-4,\n",
    "    min_lr=1e-5,\n",
    "    warmup_steps=10,\n",
    "    total_steps=100,\n",
    ")\n",
    "\n",
    "inference_config = model.Config(\n",
    "    d_model=256,\n",
    "    ffw_multiplier=4,\n",
    "    query_heads=8,\n",
    "    key_heads=8,\n",
    "    num_layers=4,\n",
    "    key_dim=128,\n",
    "    vocab_size=256,\n",
    "    max_seq_len=8192,\n",
    "    causal=True,\n",
    "    use_attn_kernel=False,\n",
    "    weight_dtype=jnp.float32,\n",
    "    rules=model.mdl_parallel_rules,\n",
    "    mesh=model.create_mesh()\n",
    ")\n",
    "weights = model.Weights.init(cfg, jax.random.PRNGKey(0), cfg.mesh, model.fsdp_rules)\n",
    "opt_state = model.init_adam_state(weights)\n",
    "step = jax.jit(model.update_step, static_argnames='cfg')\n",
    "step = functools.partial(step, cfg=cfg)\n",
    "\n",
    "test_batch = jnp.arange(1, 256+2)[None, :]\n",
    "test_batch = jnp.repeat(test_batch, repeats = 8, axis=0)\n",
    "batch = {\n",
    "    'x': test_batch[:, :-1],\n",
    "    'y': test_batch[:, 1:],\n",
    "    'segment_ids': jnp.ones((8, 256)),\n",
    "}\n",
    "batch = jax.device_put(batch, model.input_shardings(cfg.mesh, cfg.rules))\n",
    "\n",
    "ckpt_path = '/tmp/test_dir'\n",
    "ckpt_manager = model.make_mgnr(path=ckpt_path)\n",
    "\n",
    "losses = []\n",
    "for s in range(0, 50):\n",
    "    loss, weights, opt_state, _ = step(weights, batch['x'], batch['segment_ids'], batch['y'], opt_state, s)\n",
    "    losses.append(loss)\n",
    "\n",
    "    if s % 25 == 0:\n",
    "        model.save(ckpt_manager, weights, opt_state, s)\n",
    "\n",
    "prompt = jnp.arange(1, 60)\n",
    "cache = model.KVCache.init(cfg=inference_config, batch_size=1, max_seq_len=2048)\n",
    "tokens, cache = model.sample_from_prompt(prompt, weights, cache, inference_config, batch_idx=0, num_steps=13)\n",
    "# Validate that we do indeed sample the sequence we overtrained in.\n",
    "assert jnp.array_equal(jnp.array(tokens), jnp.arange(60, 60+13))"
   ]
  },
  {
   "cell_type": "code",
   "execution_count": 22,
   "metadata": {},
   "outputs": [],
   "source": [
    "weights, opt_state = model.load(ckpt_manager, cfg, step=25)\n",
    "new_losses = []\n",
    "for s in range(26, 50):\n",
    "    loss, weights, opt_state, _ = step(weights, batch['x'], batch['segment_ids'], batch['y'], opt_state, s)\n",
    "    new_losses.append(loss)\n",
    "assert losses[26:50] == new_losses[0:24]"
   ]
  },
  {
   "cell_type": "code",
   "execution_count": 21,
   "metadata": {},
   "outputs": [
    {
     "data": {
      "text/plain": [
       "[Array(0.00082272, dtype=float32),\n",
       " Array(0.00068881, dtype=float32),\n",
       " Array(0.00059183, dtype=float32),\n",
       " Array(0.00051776, dtype=float32),\n",
       " Array(0.00045499, dtype=float32),\n",
       " Array(0.00039861, dtype=float32),\n",
       " Array(0.00034291, dtype=float32),\n",
       " Array(0.00030873, dtype=float32),\n",
       " Array(0.00027352, dtype=float32),\n",
       " Array(0.00024711, dtype=float32),\n",
       " Array(0.00022268, dtype=float32),\n",
       " Array(0.00020314, dtype=float32),\n",
       " Array(0.00018469, dtype=float32),\n",
       " Array(0.0001731, dtype=float32),\n",
       " Array(0.00016098, dtype=float32),\n",
       " Array(0.00015086, dtype=float32),\n",
       " Array(0.0001411, dtype=float32),\n",
       " Array(0.00013339, dtype=float32),\n",
       " Array(0.00012673, dtype=float32),\n",
       " Array(0.0001208, dtype=float32),\n",
       " Array(0.00011623, dtype=float32),\n",
       " Array(0.00011055, dtype=float32),\n",
       " Array(0.00010682, dtype=float32),\n",
       " Array(0.00010223, dtype=float32)]"
      ]
     },
     "execution_count": 21,
     "metadata": {},
     "output_type": "execute_result"
    }
   ],
   "source": [
    "new_losses"
   ]
  },
  {
   "cell_type": "code",
   "execution_count": 16,
   "metadata": {},
   "outputs": [
    {
     "data": {
      "text/plain": [
       "[Array(0.00097409, dtype=float32),\n",
       " Array(0.00082272, dtype=float32),\n",
       " Array(0.00068881, dtype=float32),\n",
       " Array(0.00059183, dtype=float32),\n",
       " Array(0.00051776, dtype=float32),\n",
       " Array(0.00045499, dtype=float32),\n",
       " Array(0.00039861, dtype=float32),\n",
       " Array(0.00034291, dtype=float32),\n",
       " Array(0.00030873, dtype=float32),\n",
       " Array(0.00027352, dtype=float32),\n",
       " Array(0.00024711, dtype=float32),\n",
       " Array(0.00022268, dtype=float32),\n",
       " Array(0.00020314, dtype=float32),\n",
       " Array(0.00018469, dtype=float32),\n",
       " Array(0.0001731, dtype=float32),\n",
       " Array(0.00016098, dtype=float32),\n",
       " Array(0.00015086, dtype=float32),\n",
       " Array(0.0001411, dtype=float32),\n",
       " Array(0.00013339, dtype=float32),\n",
       " Array(0.00012673, dtype=float32),\n",
       " Array(0.0001208, dtype=float32),\n",
       " Array(0.00011623, dtype=float32),\n",
       " Array(0.00011055, dtype=float32),\n",
       " Array(0.00010682, dtype=float32),\n",
       " Array(0.00010223, dtype=float32)]"
      ]
     },
     "execution_count": 16,
     "metadata": {},
     "output_type": "execute_result"
    }
   ],
   "source": [
    "losses[25:]"
   ]
  },
  {
   "cell_type": "code",
   "execution_count": 15,
   "metadata": {},
   "outputs": [
    {
     "data": {
      "text/plain": [
       "[(\"['accuracy']\", Array(0.15403615, dtype=float32)),\n",
       " (\"['grad_norms'].layers[0].q\", Array(5.0094004, dtype=float32)),\n",
       " (\"['grad_norms'].layers[0].k\", Array(5.081154, dtype=float32)),\n",
       " (\"['grad_norms'].layers[0].v\", Array(15.003858, dtype=float32)),\n",
       " (\"['grad_norms'].layers[0].proj\", Array(16.177084, dtype=float32)),\n",
       " (\"['grad_norms'].layers[0].w1\", Array(14.796127, dtype=float32)),\n",
       " (\"['grad_norms'].layers[0].w2\", Array(20.174376, dtype=float32)),\n",
       " (\"['grad_norms'].layers[0].gamma1\", Array(0.7541151, dtype=float32)),\n",
       " (\"['grad_norms'].layers[0].gamma2\", Array(0.6379738, dtype=float32)),\n",
       " (\"['grad_norms'].layers[1].q\", Array(1.6720494, dtype=float32)),\n",
       " (\"['grad_norms'].layers[1].k\", Array(1.6485963, dtype=float32)),\n",
       " (\"['grad_norms'].layers[1].v\", Array(13.399248, dtype=float32)),\n",
       " (\"['grad_norms'].layers[1].proj\", Array(14.668169, dtype=float32)),\n",
       " (\"['grad_norms'].layers[1].w1\", Array(18.635403, dtype=float32)),\n",
       " (\"['grad_norms'].layers[1].w2\", Array(21.67946, dtype=float32)),\n",
       " (\"['grad_norms'].layers[1].gamma1\", Array(0.56384623, dtype=float32)),\n",
       " (\"['grad_norms'].layers[1].gamma2\", Array(0.8001079, dtype=float32)),\n",
       " (\"['grad_norms'].layers[2].q\", Array(1.0045685, dtype=float32)),\n",
       " (\"['grad_norms'].layers[2].k\", Array(0.9162115, dtype=float32)),\n",
       " (\"['grad_norms'].layers[2].v\", Array(15.17517, dtype=float32)),\n",
       " (\"['grad_norms'].layers[2].proj\", Array(16.548317, dtype=float32)),\n",
       " (\"['grad_norms'].layers[2].w1\", Array(20.895824, dtype=float32)),\n",
       " (\"['grad_norms'].layers[2].w2\", Array(21.253847, dtype=float32)),\n",
       " (\"['grad_norms'].layers[2].gamma1\", Array(0.65121007, dtype=float32)),\n",
       " (\"['grad_norms'].layers[2].gamma2\", Array(0.8459085, dtype=float32)),\n",
       " (\"['grad_norms'].layers[3].q\", Array(0.72536856, dtype=float32)),\n",
       " (\"['grad_norms'].layers[3].k\", Array(0.7236869, dtype=float32)),\n",
       " (\"['grad_norms'].layers[3].v\", Array(16.847116, dtype=float32)),\n",
       " (\"['grad_norms'].layers[3].proj\", Array(15.909694, dtype=float32)),\n",
       " (\"['grad_norms'].layers[3].w1\", Array(22.93966, dtype=float32)),\n",
       " (\"['grad_norms'].layers[3].w2\", Array(22.710608, dtype=float32)),\n",
       " (\"['grad_norms'].layers[3].gamma1\", Array(0.78305936, dtype=float32)),\n",
       " (\"['grad_norms'].layers[3].gamma2\", Array(0.9491517, dtype=float32)),\n",
       " (\"['grad_norms'].embedding\", Array(8.228407, dtype=float32)),\n",
       " (\"['grad_norms'].vocab_proj\", Array(85.527214, dtype=float32)),\n",
       " (\"['lr']\", Array(0.000288, dtype=float32, weak_type=True))]"
      ]
     },
     "execution_count": 15,
     "metadata": {},
     "output_type": "execute_result"
    }
   ],
   "source": [
    "leaves = jax.tree.leaves(jax.tree_util.tree_map_with_path(lambda p, x: (jax.tree_util.keystr(p) , x), internals), is_leaf=lambda x: isinstance(x, tuple))\n",
    "leaves"
   ]
  },
  {
   "cell_type": "code",
   "execution_count": null,
   "metadata": {},
   "outputs": [],
   "source": [
    "prompt = ds.tokenize(\"Once upon a time, there was a little cat named Francis.\")\n",
    "cache = model.KVCache.init(cfg=inference_config, batch_size=1, max_seq_len=2048)\n",
    "tokens, cache = model.sample_from_prompt(prompt, weights, cache, inference_config, batch_idx=0, num_steps=400)"
   ]
  },
  {
   "cell_type": "code",
   "execution_count": 2,
   "metadata": {},
   "outputs": [
    {
     "ename": "NameError",
     "evalue": "name 'ds' is not defined",
     "output_type": "error",
     "traceback": [
      "\u001b[0;31m---------------------------------------------------------------------------\u001b[0m",
      "\u001b[0;31mNameError\u001b[0m                                 Traceback (most recent call last)",
      "Cell \u001b[0;32mIn[2], line 1\u001b[0m\n\u001b[0;32m----> 1\u001b[0m \u001b[43mds\u001b[49m\u001b[38;5;241m.\u001b[39mdetokenize(jnp\u001b[38;5;241m.\u001b[39marray(tokens))\n",
      "\u001b[0;31mNameError\u001b[0m: name 'ds' is not defined"
     ]
    }
   ],
   "source": [
    "ds.detokenize(jnp.array(tokens))"
   ]
  },
  {
   "cell_type": "code",
   "execution_count": 53,
   "metadata": {},
   "outputs": [
    {
     "data": {
      "text/plain": [
       "array([51, 24, 13, 15, 95, 31, 26, 25, 24, 95, 11, 95, 30, 19, 23, 15, 74,\n",
       "       95, 30, 18, 15, 28, 15, 95, 33, 11, 29, 95, 11, 95, 22, 19, 30, 30,\n",
       "       22, 15, 95, 13, 11, 30, 95, 24, 11, 23, 15, 14, 95, 56, 19, 23, 76],\n",
       "      dtype=int32)"
      ]
     },
     "execution_count": 53,
     "metadata": {},
     "output_type": "execute_result"
    }
   ],
   "source": [
    "prompt = ds.tokenize('Once upon a time, there was a little cat named Tim.')\n",
    "prompt\n",
    "#"
   ]
  },
  {
   "cell_type": "code",
   "execution_count": 346,
   "metadata": {},
   "outputs": [],
   "source": [
    "# TODO\n",
    "# - Tests w/ adam\n",
    "# - lr warmup\n",
    "# - grad norms\n",
    "# - sonnet shape annotations\n",
    "# - accuracy\n",
    "# - save checkpoint\n",
    "# - logging the metrics"
   ]
  },
  {
   "cell_type": "code",
   "execution_count": 4,
   "metadata": {},
   "outputs": [
    {
     "data": {
      "image/png": "[encoded data removed]",
      "text/plain": [
       "<Figure size 1200x600 with 1 Axes>"
      ]
     },
     "metadata": {},
     "output_type": "display_data"
    }
   ],
   "source": [
    "import numpy as np\n",
    "import matplotlib.pyplot as plt\n",
    "import jax\n",
    "import jax.numpy as jnp\n",
    "def get_lr_with_cosine_decay_and_warmup(step, total_steps, max_lr, min_lr, warmup_steps):\n",
    "    \"\"\"\n",
    "    Calculate learning rate using cosine decay with linear warmup.\n",
    "    \n",
    "    Args:\n",
    "    step (int): Current step in training.\n",
    "    total_steps (int): Total number of training steps.\n",
    "    max_lr (float): Maximum learning rate (peak after warmup).\n",
    "    min_lr (float): Minimum learning rate (at the end of training).\n",
    "    warmup_steps (int): Number of warmup steps.\n",
    "    \n",
    "    Returns:\n",
    "    float: Current learning rate.\n",
    "    \"\"\"\n",
    "    def warmup(s):\n",
    "        return max_lr * (s / warmup_steps)\n",
    "    \n",
    "    def cosine_decay(s):\n",
    "        progress = (s - warmup_steps) / (total_steps - warmup_steps)\n",
    "        return min_lr + 0.5 * (max_lr - min_lr) * (1 + jnp.cos(jnp.pi * progress))\n",
    "    \n",
    "    return jax.lax.cond(\n",
    "        step < warmup_steps,\n",
    "        warmup,\n",
    "        cosine_decay,\n",
    "        step\n",
    "    )\n",
    "\n",
    "def visualize_lr_schedule(total_steps, warmup_steps, max_lr, min_lr):\n",
    "    steps = np.arange(total_steps)\n",
    "    compiled_get_lr = jax.jit(get_lr_with_cosine_decay_and_warmup).lower(0, total_steps, max_lr, min_lr, warmup_steps).compile()\n",
    "    lrs = [compiled_get_lr(step, total_steps, max_lr, min_lr, warmup_steps) for step in steps]\n",
    "\n",
    "    plt.figure(figsize=(12, 6))\n",
    "    plt.plot(steps, lrs)\n",
    "    plt.title('Learning Rate Schedule: Linear Warmup with Cosine Decay')\n",
    "    plt.xlabel('Steps')\n",
    "    plt.ylabel('Learning Rate')\n",
    "    plt.yscale('log')\n",
    "    plt.grid(True)\n",
    "\n",
    "    # Highlight warmup period\n",
    "    plt.axvline(x=warmup_steps, color='r', linestyle='--', label='End of Warmup')\n",
    "    \n",
    "    # Annotate max and min learning rates\n",
    "    plt.annotate(f'Max LR: {max_lr}', xy=(warmup_steps, max_lr), xytext=(warmup_steps+0.1*total_steps, max_lr),\n",
    "                 arrowprops=dict(facecolor='black', shrink=0.05))\n",
    "    plt.annotate(f'Min LR: {min_lr}', xy=(total_steps-1, min_lr), xytext=(total_steps*0.8, min_lr*2),\n",
    "                 arrowprops=dict(facecolor='black', shrink=0.05))\n",
    "\n",
    "    plt.legend()\n",
    "    plt.show()\n",
    "\n",
    "total_steps = 10000\n",
    "warmup_steps = 1000\n",
    "max_lr = 1e-3\n",
    "min_lr = 1e-5\n",
    "\n",
    "visualize_lr_schedule(total_steps, warmup_steps, max_lr, min_lr)"
   ]
  },
  {
   "cell_type": "code",
   "execution_count": null,
   "metadata": {},
   "outputs": [],
   "source": []
  }
 ],
 "metadata": {
  "kernelspec": {
   "display_name": "Python 3",
   "language": "python",
   "name": "python3"
  },
  "language_info": {
   "codemirror_mode": {
    "name": "ipython",
    "version": 3
   },
   "file_extension": ".py",
   "mimetype": "text/x-python",
   "name": "python",
   "nbconvert_exporter": "python",
   "pygments_lexer": "ipython3",
   "version": "3.10.6"
  }
 },
 "nbformat": 4,
 "nbformat_minor": 2
}
