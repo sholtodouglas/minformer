{
 "cells": [
  {
   "cell_type": "code",
   "execution_count": 31,
   "metadata": {},
   "outputs": [],
   "source": [
    "import data\n",
    "import data_hf\n",
    "from modelling import model\n",
    "import jax.numpy as jnp\n",
    "import jax\n",
    "import numpy as np\n",
    "import pandas as pd\n",
    "import matplotlib.pyplot as plt\n",
    "np.set_printoptions(edgeitems=30, linewidth=100000, \n",
    "    formatter=dict(float=lambda x: \"%.3g\" % x))\n",
    "\n",
    "from importlib import reload\n",
    "from tqdm import tqdm\n",
    "model = reload(model)\n",
    "import data\n",
    "import data_hf\n",
    "data = reload(data)\n",
    "data_hf = reload(data_hf)\n",
    "import data_shae\n",
    "data_shae = reload(data_shae)\n",
    "import finetune\n",
    "finetune = reload(finetune)\n",
    "import download_data\n",
    "download_data = reload(download_data)\n",
    "\n",
    "import numpy as np\n",
    "import pandas as pd\n",
    "import umap\n",
    "import matplotlib.pyplot as plt\n",
    "import seaborn as sns\n",
    "from sklearn.preprocessing import LabelEncoder\n",
    "from google.cloud import storage"
   ]
  },
  {
   "cell_type": "code",
   "execution_count": 11,
   "metadata": {},
   "outputs": [
    {
     "name": "stderr",
     "output_type": "stream",
     "text": [
      "WARNING:absl:This GCS path gs://minformer_data/pretrained_ckpt/v1/57000 does not contain the commit_success.txt file used to indicate a successfully written GCS checkpoint. If the checkpoint was originally saved with GCS, the checkpoint was not successfully written. If the checkpoint was saved differently and copied, you need to add commit_success.txt to the checkpoint directory.\n"
     ]
    }
   ],
   "source": [
    "cfg = model.Config(\n",
    "    d_model=2048,\n",
    "    ffw_multiplier=4,\n",
    "    query_heads=8,\n",
    "    key_heads=8,\n",
    "    num_layers=12,\n",
    "    key_dim=128,\n",
    "    vocab_size=8,\n",
    "    max_seq_len=8192,\n",
    "    causal=True,\n",
    "    use_attn_kernel=True,\n",
    "    weight_dtype_at_rest=jnp.float32,\n",
    "    active_weight_dtype=jnp.bfloat16,\n",
    "    rules=model.fsdp_rules,\n",
    "    mesh=model.create_mesh(),\n",
    "    max_lr=3e-5,\n",
    "    min_lr=3e-6,\n",
    "    warmup_steps=50,\n",
    "    total_steps=10000,\n",
    "    return_sae_intermediates=True,\n",
    ")\n",
    "\n",
    "# Checkpoint manager setup\n",
    "checkpoint_dir = \"gs://minformer_data/pretrained_ckpt/v1\"\n",
    "ckpt_manager = model.make_mngr(path=checkpoint_dir)\n",
    "\n",
    "weights, opt_state = model.load(ckpt_manager, cfg)\n",
    "start_step = ckpt_manager.latest_step()"
   ]
  },
  {
   "cell_type": "code",
   "execution_count": 12,
   "metadata": {},
   "outputs": [],
   "source": [
    "batch_size = 8\n",
    "stage_2 = [ \"gs://minformer_data/shae_8k/tfrecords/record_*.tfrecord\"]\n",
    "iter = data_shae.create_iterator(\n",
    "    stage_1=[], stage_2=stage_2, batch_size=batch_size, shuffle=True\n",
    ")\n",
    "process_batch = model.process_batch_shae"
   ]
  },
  {
   "cell_type": "code",
   "execution_count": 13,
   "metadata": {},
   "outputs": [
    {
     "name": "stdout",
     "output_type": "stream",
     "text": [
      "Found 0 files for stage 1\n",
      "Found 2868 files for stage 2\n"
     ]
    }
   ],
   "source": [
    "batch = next(iter)"
   ]
  },
  {
   "cell_type": "code",
   "execution_count": 14,
   "metadata": {},
   "outputs": [],
   "source": [
    "from functools import partial\n",
    "\n",
    "def fwd(weights, x, segment_ids):\n",
    "    _, internals, x = model.forward(x, segment_ids, weights, cfg)\n",
    "    last_nonzero = jnp.sum(segment_ids > 0, axis=-1)\n",
    "    indices = last_nonzero[:, None, None] - 1\n",
    "    last_xs = jnp.take_along_axis(x, indices, 1)\n",
    "    return last_xs, internals\n",
    "\n",
    "def input_shardings(\n",
    "    mesh, rules\n",
    ") -> tuple[jax.sharding.NamedSharding, jax.sharding.NamedSharding, jax.sharding.NamedSharding]:\n",
    "    logical_axes = {\n",
    "        \"x\": model.P(\"batch\", \"sequence\"),\n",
    "        \"segment_ids\": model.P(\"batch\", \"sequence\"),\n",
    "    }\n",
    "    physical_axes = jax.tree.map(partial(model._logical_to_sharding, mesh=mesh, rules=rules), logical_axes)\n",
    "    return physical_axes\n",
    "\n",
    "\n",
    "fwd = jax.jit(fwd)"
   ]
  },
  {
   "cell_type": "code",
   "execution_count": 15,
   "metadata": {},
   "outputs": [
    {
     "data": {
      "text/plain": [
       "<function jax._src.random.PRNGKey(seed: 'int | ArrayLike', *, impl: 'PRNGSpecDesc | None' = None) -> 'KeyArray'>"
      ]
     },
     "execution_count": 15,
     "metadata": {},
     "output_type": "execute_result"
    }
   ],
   "source": [
    "jax.random.PRNGKey"
   ]
  },
  {
   "cell_type": "code",
   "execution_count": 27,
   "metadata": {},
   "outputs": [],
   "source": [
    "# Make an SAE\n",
    "\n",
    "features = 4096\n",
    "\n",
    "expand = jax.nn.initializers.he_normal(in_axis=0, out_axis=1)(jax.random.PRNGKey(0), (cfg.d_model, features), jnp.float32)\n",
    "contract = jax.nn.initializers.he_normal(in_axis=0, out_axis=1)(jax.random.PRNGKey(1), (features, cfg.d_model), jnp.float32)\n",
    "l1_coeff = 1e-3\n",
    "lr = 3e-4\n",
    "\n",
    "sae_weights = {\n",
    "    'expand': expand,\n",
    "    'contract': contract,\n",
    "}\n",
    "\n",
    "def sae_shardings(\n",
    "    mesh, rules\n",
    ") -> tuple[jax.sharding.NamedSharding, jax.sharding.NamedSharding, jax.sharding.NamedSharding]:\n",
    "    logical_axes = {\n",
    "        \"expand\": model.P(\"batch\", \"ffw\"),\n",
    "        \"contract\": model.P(\"ffw\", \"batch\"),\n",
    "    }\n",
    "    physical_axes = jax.tree.map(partial(model._logical_to_sharding, mesh=mesh, rules=rules), logical_axes)\n",
    "    return physical_axes\n",
    "\n",
    "sae_weights = jax.device_put(sae_weights, sae_shardings(cfg.mesh, cfg.rules))\n",
    "sae_opt_state = model.init_optimizer_state(sae_weights)\n",
    "\n",
    "def fwd_sae(sae_weights,\n",
    "            activations, # [B, T, D]\n",
    "            ):\n",
    "    activations = activations.reshape(-1, cfg.d_model) # [B*T, D]\n",
    "    latents = jnp.einsum('bd,df->bf', activations, sae_weights['expand'])\n",
    "    latents = jax.nn.relu(latents)\n",
    "    reconstructed = jnp.einsum('bf,fd->bd', latents, sae_weights['contract'])\n",
    "    reconstruction_loss = jnp.mean((reconstructed-activations)**2)\n",
    "    l1_loss = l1_coeff * jnp.sum(latents)\n",
    "    loss = reconstruction_loss + l1_loss\n",
    "    return loss, {'latents': latents, 'reconstruction_loss': reconstruction_loss, 'l1_loss': l1_loss}\n",
    "\n",
    "grad_sae = jax.value_and_grad(fwd_sae)\n",
    "\n",
    "def update_weights_sae(weights,\n",
    "                       opt_state,\n",
    "                       activations,\n",
    "                       step):\n",
    "    (loss, internals), grads = jax.value_and_grad(fwd_sae, has_aux=True)(weights, activations)\n",
    "    weights, opt_state, _ = model.update_weights(weights, grads, opt_state, lr, step, cfg, {})\n",
    "    return weights, opt_state, loss, internals\n",
    "    \n",
    "\n",
    "update_weights_fn = jax.jit(update_weights_sae)\n"
   ]
  },
  {
   "cell_type": "code",
   "execution_count": 26,
   "metadata": {},
   "outputs": [],
   "source": []
  },
  {
   "cell_type": "code",
   "execution_count": 14,
   "metadata": {},
   "outputs": [
    {
     "name": "stdout",
     "output_type": "stream",
     "text": [
      "-\n"
     ]
    }
   ],
   "source": [
    "for batch in iter:\n",
    "    batch = jax.device_put({'x': batch['x'], 'segment_ids': batch['segment_ids']}, input_shardings(cfg.mesh, cfg.rules))\n",
    "    _, internals = fwd(weights, batch['x'], batch['segment_ids'])\n",
    "    activations = internals['layer_6_activations']\n",
    "    sae_weights, sae_opt_state, loss, internals = update_weights_fn(sae_weights, sae_opt_state, activations, step=1)\n",
    "    print(internals['reconstruction_loss'], internals['l1_loss'])\n",
    "\n"
   ]
  },
  {
   "cell_type": "code",
   "execution_count": 16,
   "metadata": {},
   "outputs": [
    {
     "data": {
      "text/plain": [
       "{'layer_6_activations': (8, 8192, 2048),\n",
       " 'layers': [{}, {}, {}, {}, {}, {}, {}, {}, {}, {}, {}, {}]}"
      ]
     },
     "execution_count": 16,
     "metadata": {},
     "output_type": "execute_result"
    }
   ],
   "source": [
    "jax.tree.map(jnp.shape, internals)"
   ]
  },
  {
   "cell_type": "code",
   "execution_count": null,
   "metadata": {},
   "outputs": [],
   "source": []
  }
 ],
 "metadata": {
  "kernelspec": {
   "display_name": "Python 3 (ipykernel)",
   "language": "python",
   "name": "python3"
  },
  "language_info": {
   "codemirror_mode": {
    "name": "ipython",
    "version": 3
   },
   "file_extension": ".py",
   "mimetype": "text/x-python",
   "name": "python",
   "nbconvert_exporter": "python",
   "pygments_lexer": "ipython3",
   "version": "3.10.12"
  }
 },
 "nbformat": 4,
 "nbformat_minor": 2
}
